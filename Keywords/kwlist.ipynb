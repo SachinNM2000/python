{
 "cells": [
  {
   "cell_type": "code",
   "execution_count": 3,
   "id": "10b65c01",
   "metadata": {},
   "outputs": [
    {
     "name": "stdout",
     "output_type": "stream",
     "text": [
      "['False', 'None', 'True', 'and', 'as', 'assert', 'async', 'await', 'break', 'class', 'continue', 'def', 'del', 'elif', 'else', 'except', 'finally', 'for', 'from', 'global', 'if', 'import', 'in', 'is', 'lambda', 'nonlocal', 'not', 'or', 'pass', 'raise', 'return', 'try', 'while', 'with', 'yield']\n"
     ]
    }
   ],
   "source": [
    "from keyword import kwlist\n",
    "print(kwlist)"
   ]
  },
  {
   "cell_type": "code",
   "execution_count": 5,
   "id": "79c18c68",
   "metadata": {},
   "outputs": [
    {
     "data": {
      "text/plain": [
       "'from keyword import kwlist\\nprint(len(kwlist))'"
      ]
     },
     "execution_count": 5,
     "metadata": {},
     "output_type": "execute_result"
    }
   ],
   "source": [
    "from keyword import kwlist\n",
    "print(len(kwlist))"
   ]
  },
  {
   "cell_type": "code",
   "execution_count": null,
   "id": "b0258345",
   "metadata": {},
   "outputs": [],
   "source": []
  }
 ],
 "metadata": {
  "kernelspec": {
   "display_name": "Python 3",
   "language": "python",
   "name": "python3"
  },
  "language_info": {
   "codemirror_mode": {
    "name": "ipython",
    "version": 3
   },
   "file_extension": ".py",
   "mimetype": "text/x-python",
   "name": "python",
   "nbconvert_exporter": "python",
   "pygments_lexer": "ipython3",
   "version": "3.8.8"
  }
 },
 "nbformat": 4,
 "nbformat_minor": 5
}
