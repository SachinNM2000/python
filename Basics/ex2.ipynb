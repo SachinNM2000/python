{
 "cells": [
  {
   "cell_type": "code",
   "execution_count": 8,
   "id": "c22c64c4",
   "metadata": {},
   "outputs": [
    {
     "name": "stdout",
     "output_type": "stream",
     "text": [
      "rahul\n",
      "<class 'str'>\n",
      "sachin\n",
      "45000.0\n"
     ]
    }
   ],
   "source": [
    "eid=101\n",
    "ename=\"sachin\"\n",
    "esal=45000.00\n",
    "avail=True\n",
    "eid=\"rahul\"\n",
    "print(eid)\n",
    "print(type(eid))\n",
    "print(ename)\n",
    "print(esal)"
   ]
  },
  {
   "cell_type": "code",
   "execution_count": 10,
   "id": "5acd8eed",
   "metadata": {},
   "outputs": [
    {
     "name": "stdout",
     "output_type": "stream",
     "text": [
      "101\n"
     ]
    }
   ],
   "source": [
    "eid=101\n",
    "print (eid)"
   ]
  },
  {
   "cell_type": "code",
   "execution_count": null,
   "id": "6d174f5e",
   "metadata": {},
   "outputs": [],
   "source": []
  }
 ],
 "metadata": {
  "kernelspec": {
   "display_name": "Python 3",
   "language": "python",
   "name": "python3"
  },
  "language_info": {
   "codemirror_mode": {
    "name": "ipython",
    "version": 3
   },
   "file_extension": ".py",
   "mimetype": "text/x-python",
   "name": "python",
   "nbconvert_exporter": "python",
   "pygments_lexer": "ipython3",
   "version": "3.8.8"
  }
 },
 "nbformat": 4,
 "nbformat_minor": 5
}
