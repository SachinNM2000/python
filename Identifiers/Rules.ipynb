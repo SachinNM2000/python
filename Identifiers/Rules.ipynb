{
 "cells": [
  {
   "cell_type": "code",
   "execution_count": 4,
   "id": "86a6b02a",
   "metadata": {},
   "outputs": [
    {
     "name": "stdout",
     "output_type": "stream",
     "text": [
      "10\n",
      "20\n"
     ]
    }
   ],
   "source": [
    "A=10\n",
    "a=20\n",
    "print(A)\n",
    "print(a)"
   ]
  },
  {
   "cell_type": "code",
   "execution_count": 9,
   "id": "34857cdc",
   "metadata": {},
   "outputs": [],
   "source": [
    "def _add():\n",
    "    print(\"Addition\")\n",
    "    _add()"
   ]
  },
  {
   "cell_type": "code",
   "execution_count": 12,
   "id": "8c407c6e",
   "metadata": {},
   "outputs": [],
   "source": [
    "def _add():\n",
    "    print(\"Addition\")\n",
    "    _add()\n",
    "    "
   ]
  },
  {
   "cell_type": "code",
   "execution_count": 14,
   "id": "3677b4b3",
   "metadata": {},
   "outputs": [
    {
     "name": "stdout",
     "output_type": "stream",
     "text": [
      "101\n"
     ]
    }
   ],
   "source": [
    "eid=101\n",
    "print(eid)\n"
   ]
  },
  {
   "cell_type": "code",
   "execution_count": 19,
   "id": "8552d9ad",
   "metadata": {},
   "outputs": [],
   "source": [
    "def add(a,b):\n",
    "    print(a+b)\n",
    "    add(10,20)"
   ]
  },
  {
   "cell_type": "code",
   "execution_count": 20,
   "id": "5f84e659",
   "metadata": {},
   "outputs": [
    {
     "ename": "SyntaxError",
     "evalue": "invalid syntax (<ipython-input-20-502eb2002516>, line 1)",
     "output_type": "error",
     "traceback": [
      "\u001b[1;36m  File \u001b[1;32m\"<ipython-input-20-502eb2002516>\"\u001b[1;36m, line \u001b[1;32m1\u001b[0m\n\u001b[1;33m    def add&():\u001b[0m\n\u001b[1;37m           ^\u001b[0m\n\u001b[1;31mSyntaxError\u001b[0m\u001b[1;31m:\u001b[0m invalid syntax\n"
     ]
    }
   ],
   "source": [
    "def add&():\n",
    "    print(\"Addition\")\n",
    "    add&()"
   ]
  },
  {
   "cell_type": "code",
   "execution_count": 26,
   "id": "79bfe2cc",
   "metadata": {},
   "outputs": [],
   "source": [
    "def _add():\n",
    "    print(\"Addition\")\n",
    "    add_()"
   ]
  },
  {
   "cell_type": "code",
   "execution_count": 27,
   "id": "22840ba5",
   "metadata": {},
   "outputs": [
    {
     "ename": "SyntaxError",
     "evalue": "invalid syntax (<ipython-input-27-40bc138bcc04>, line 2)",
     "output_type": "error",
     "traceback": [
      "\u001b[1;36m  File \u001b[1;32m\"<ipython-input-27-40bc138bcc04>\"\u001b[1;36m, line \u001b[1;32m2\u001b[0m\n\u001b[1;33m    9A=20\u001b[0m\n\u001b[1;37m     ^\u001b[0m\n\u001b[1;31mSyntaxError\u001b[0m\u001b[1;31m:\u001b[0m invalid syntax\n"
     ]
    }
   ],
   "source": [
    "A9=10\n",
    "9A=20\n",
    "print(A9)\n",
    "print((9A))"
   ]
  },
  {
   "cell_type": "code",
   "execution_count": 28,
   "id": "3fa0f914",
   "metadata": {},
   "outputs": [
    {
     "ename": "SyntaxError",
     "evalue": "invalid syntax (<ipython-input-28-b3ef4acfd4c4>, line 1)",
     "output_type": "error",
     "traceback": [
      "\u001b[1;36m  File \u001b[1;32m\"<ipython-input-28-b3ef4acfd4c4>\"\u001b[1;36m, line \u001b[1;32m1\u001b[0m\n\u001b[1;33m    def for():\u001b[0m\n\u001b[1;37m        ^\u001b[0m\n\u001b[1;31mSyntaxError\u001b[0m\u001b[1;31m:\u001b[0m invalid syntax\n"
     ]
    }
   ],
   "source": [
    "def for():\n",
    "    print(\"keywords\")\n",
    "    for()"
   ]
  },
  {
   "cell_type": "code",
   "execution_count": null,
   "id": "652a8f40",
   "metadata": {},
   "outputs": [],
   "source": []
  }
 ],
 "metadata": {
  "kernelspec": {
   "display_name": "Python 3",
   "language": "python",
   "name": "python3"
  },
  "language_info": {
   "codemirror_mode": {
    "name": "ipython",
    "version": 3
   },
   "file_extension": ".py",
   "mimetype": "text/x-python",
   "name": "python",
   "nbconvert_exporter": "python",
   "pygments_lexer": "ipython3",
   "version": "3.8.8"
  }
 },
 "nbformat": 4,
 "nbformat_minor": 5
}
