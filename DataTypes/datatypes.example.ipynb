{
 "cells": [
  {
   "cell_type": "code",
   "execution_count": 3,
   "id": "5cdc9d6e",
   "metadata": {},
   "outputs": [
    {
     "name": "stdout",
     "output_type": "stream",
     "text": [
      "<class 'int'>\n"
     ]
    }
   ],
   "source": [
    "v1=100\n",
    "print(type(v1))\n"
   ]
  },
  {
   "cell_type": "code",
   "execution_count": 5,
   "id": "6c3aee6e",
   "metadata": {},
   "outputs": [
    {
     "name": "stdout",
     "output_type": "stream",
     "text": [
      "<class 'float'>\n"
     ]
    }
   ],
   "source": [
    "v2=100.00\n",
    "print(type(v2))\n"
   ]
  },
  {
   "cell_type": "code",
   "execution_count": 7,
   "id": "5e4e1ced",
   "metadata": {},
   "outputs": [
    {
     "name": "stdout",
     "output_type": "stream",
     "text": [
      "<class 'str'>\n"
     ]
    }
   ],
   "source": [
    "v3=\"Rahul\"\n",
    "print(type(v3))"
   ]
  },
  {
   "cell_type": "code",
   "execution_count": 30,
   "id": "aecf8929",
   "metadata": {},
   "outputs": [
    {
     "name": "stdout",
     "output_type": "stream",
     "text": [
      "<class 'complex'>\n"
     ]
    }
   ],
   "source": [
    "v4= 10+5j\n",
    "print(type(v4))"
   ]
  },
  {
   "cell_type": "code",
   "execution_count": 15,
   "id": "231b6550",
   "metadata": {},
   "outputs": [
    {
     "name": "stdout",
     "output_type": "stream",
     "text": [
      "<class 'bool'>\n"
     ]
    }
   ],
   "source": [
    "v5=True\n",
    "print(type(v5))"
   ]
  },
  {
   "cell_type": "code",
   "execution_count": 24,
   "id": "e64b8403",
   "metadata": {},
   "outputs": [
    {
     "name": "stdout",
     "output_type": "stream",
     "text": [
      "<class 'list'>\n"
     ]
    }
   ],
   "source": [
    "v6=[]\n",
    "print(type(v6))"
   ]
  },
  {
   "cell_type": "code",
   "execution_count": 25,
   "id": "e1a6f4cc",
   "metadata": {},
   "outputs": [
    {
     "name": "stdout",
     "output_type": "stream",
     "text": [
      "<class 'tuple'>\n"
     ]
    }
   ],
   "source": [
    "v7=()\n",
    "print(type(v7))"
   ]
  },
  {
   "cell_type": "code",
   "execution_count": 26,
   "id": "dd3c67f0",
   "metadata": {},
   "outputs": [
    {
     "name": "stdout",
     "output_type": "stream",
     "text": [
      "<class 'set'>\n"
     ]
    }
   ],
   "source": [
    "v8={10,20}\n",
    "print(type(v8))"
   ]
  },
  {
   "cell_type": "code",
   "execution_count": 34,
   "id": "62461c20",
   "metadata": {},
   "outputs": [
    {
     "name": "stdout",
     "output_type": "stream",
     "text": [
      "<class 'dict'>\n"
     ]
    }
   ],
   "source": [
    "v9={}\n",
    "print(type(v9))"
   ]
  },
  {
   "cell_type": "code",
   "execution_count": 35,
   "id": "2ed96f55",
   "metadata": {},
   "outputs": [
    {
     "name": "stdout",
     "output_type": "stream",
     "text": [
      "<class 'bytes'>\n"
     ]
    }
   ],
   "source": [
    "v10=bytes([10,20,30,40])\n",
    "print(type(v10))"
   ]
  },
  {
   "cell_type": "code",
   "execution_count": 36,
   "id": "7ce59c58",
   "metadata": {},
   "outputs": [
    {
     "name": "stdout",
     "output_type": "stream",
     "text": [
      "<class 'bytearray'>\n"
     ]
    }
   ],
   "source": [
    "v11=bytearray([10,20,30,4])\n",
    "print(type(v11))"
   ]
  },
  {
   "cell_type": "code",
   "execution_count": 37,
   "id": "9d9c9da7",
   "metadata": {},
   "outputs": [
    {
     "name": "stdout",
     "output_type": "stream",
     "text": [
      "<class 'frozenset'>\n"
     ]
    }
   ],
   "source": [
    "v12=frozenset({10,20,30})\n",
    "print(type(v12))"
   ]
  },
  {
   "cell_type": "code",
   "execution_count": 40,
   "id": "742c0f81",
   "metadata": {},
   "outputs": [
    {
     "name": "stdout",
     "output_type": "stream",
     "text": [
      "<class 'range'>\n"
     ]
    }
   ],
   "source": [
    "v13=range()\n",
    "print(type(v13))"
   ]
  },
  {
   "cell_type": "code",
   "execution_count": 47,
   "id": "0a9293fc",
   "metadata": {},
   "outputs": [
    {
     "name": "stdout",
     "output_type": "stream",
     "text": [
      "None\n"
     ]
    }
   ],
   "source": [
    "def get_Details(a,b):\n",
    "    pass\n",
    "v14=get_Details(10,20)\n",
    "print(v14)"
   ]
  },
  {
   "cell_type": "code",
   "execution_count": 48,
   "id": "112a23de",
   "metadata": {},
   "outputs": [
    {
     "name": "stdout",
     "output_type": "stream",
     "text": [
      "None\n"
     ]
    }
   ],
   "source": [
    "def function(a, b):\n",
    "    pass\n",
    "\n",
    "v = function(10, 20)\n",
    "print(v)"
   ]
  }
 ],
 "metadata": {
  "kernelspec": {
   "display_name": "Python 3",
   "language": "python",
   "name": "python3"
  },
  "language_info": {
   "codemirror_mode": {
    "name": "ipython",
    "version": 3
   },
   "file_extension": ".py",
   "mimetype": "text/x-python",
   "name": "python",
   "nbconvert_exporter": "python",
   "pygments_lexer": "ipython3",
   "version": "3.8.8"
  }
 },
 "nbformat": 4,
 "nbformat_minor": 5
}
