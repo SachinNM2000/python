{
 "cells": [
  {
   "cell_type": "code",
   "execution_count": 3,
   "id": "d00e922f",
   "metadata": {},
   "outputs": [
    {
     "name": "stdout",
     "output_type": "stream",
     "text": [
      "True\n"
     ]
    }
   ],
   "source": [
    "# how to represent bool type\n",
    "print(bool(True))"
   ]
  },
  {
   "cell_type": "code",
   "execution_count": 4,
   "id": "0406f665",
   "metadata": {},
   "outputs": [
    {
     "name": "stdout",
     "output_type": "stream",
     "text": [
      "False\n"
     ]
    }
   ],
   "source": [
    "print(bool(0))\n"
   ]
  },
  {
   "cell_type": "code",
   "execution_count": 5,
   "id": "308fb78b",
   "metadata": {},
   "outputs": [
    {
     "name": "stdout",
     "output_type": "stream",
     "text": [
      "True\n",
      "False\n"
     ]
    }
   ],
   "source": [
    "print(bool(100)) \n",
    "print(bool(0)) \n",
    "#bool(x)\n",
    "#if the x is int type\n",
    "# 0 means- FALSE\n",
    "# non-0 means- TRUE"
   ]
  },
  {
   "cell_type": "code",
   "execution_count": 14,
   "id": "ae3115a5",
   "metadata": {},
   "outputs": [
    {
     "name": "stdout",
     "output_type": "stream",
     "text": [
      "True\n",
      "False\n"
     ]
    }
   ],
   "source": [
    "print(bool(\"True\")) \n",
    "print(bool(\"\")) \n",
    "#bool(x)\n",
    "#if the x is str type\n",
    "# x value is empty str means- FALSE\n",
    "# Otherwise- TRUE"
   ]
  },
  {
   "cell_type": "code",
   "execution_count": 10,
   "id": "2cf75fa1",
   "metadata": {},
   "outputs": [
    {
     "name": "stdout",
     "output_type": "stream",
     "text": [
      "True\n",
      "False\n"
     ]
    }
   ],
   "source": [
    "print(bool(549.90)) \n",
    "print(bool(00.00)) \n",
    "#bool(x)\n",
    "#if the x is float type\n",
    "# total no. is 0 means- FALSE\n",
    "# non-0 means- TRUE"
   ]
  },
  {
   "cell_type": "code",
   "execution_count": 13,
   "id": "efd0364a",
   "metadata": {},
   "outputs": [
    {
     "name": "stdout",
     "output_type": "stream",
     "text": [
      "['False', 'None', 'True', 'and', 'as', 'assert', 'async', 'await', 'break', 'class', 'continue', 'def', 'del', 'elif', 'else', 'except', 'finally', 'for', 'from', 'global', 'if', 'import', 'in', 'is', 'lambda', 'nonlocal', 'not', 'or', 'pass', 'raise', 'return', 'try', 'while', 'with', 'yield']\n"
     ]
    }
   ],
   "source": [
    "from keyword import kwlist\n",
    "print(kwlist)\n"
   ]
  }
 ],
 "metadata": {
  "kernelspec": {
   "display_name": "Python 3",
   "language": "python",
   "name": "python3"
  },
  "language_info": {
   "codemirror_mode": {
    "name": "ipython",
    "version": 3
   },
   "file_extension": ".py",
   "mimetype": "text/x-python",
   "name": "python",
   "nbconvert_exporter": "python",
   "pygments_lexer": "ipython3",
   "version": "3.8.8"
  }
 },
 "nbformat": 4,
 "nbformat_minor": 5
}
