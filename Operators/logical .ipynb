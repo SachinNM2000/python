{
 "cells": [
  {
   "cell_type": "code",
   "execution_count": 1,
   "id": "ca9cabd0",
   "metadata": {},
   "outputs": [
    {
     "name": "stdout",
     "output_type": "stream",
     "text": [
      "10\n"
     ]
    }
   ],
   "source": [
    "#Logical and Relational Operators\n",
    "# AND => if both operands are non-zero or True, its TRUE\n",
    "#       if either one operand is zero or False, its FALSE\n",
    "print (100 and 10)"
   ]
  },
  {
   "cell_type": "code",
   "execution_count": 2,
   "id": "45ebce65",
   "metadata": {},
   "outputs": [
    {
     "name": "stdout",
     "output_type": "stream",
     "text": [
      "True\n",
      "False\n"
     ]
    }
   ],
   "source": [
    "print(True > False)\n",
    "print(True < False)"
   ]
  },
  {
   "cell_type": "code",
   "execution_count": 3,
   "id": "a6ecae4c",
   "metadata": {},
   "outputs": [
    {
     "name": "stdout",
     "output_type": "stream",
     "text": [
      "True\n"
     ]
    }
   ],
   "source": [
    "x=5\n",
    "print(x>3 and x<10)"
   ]
  },
  {
   "cell_type": "code",
   "execution_count": 5,
   "id": "b23a1c50",
   "metadata": {},
   "outputs": [
    {
     "name": "stdout",
     "output_type": "stream",
     "text": [
      "True\n"
     ]
    }
   ],
   "source": [
    "# OR => returns TRUE, if one of the statements is True\n",
    "x=5\n",
    "print(x>3 or x<4)"
   ]
  },
  {
   "cell_type": "code",
   "execution_count": 8,
   "id": "084743e9",
   "metadata": {},
   "outputs": [
    {
     "name": "stdout",
     "output_type": "stream",
     "text": [
      "True\n"
     ]
    }
   ],
   "source": [
    "# NOT => reverse the result\n",
    "x=5\n",
    "print(not(x>3 and x<4))\n",
    "#returns FAlSE because, mot is used to reverse the result"
   ]
  },
  {
   "cell_type": "code",
   "execution_count": null,
   "id": "02abc923",
   "metadata": {},
   "outputs": [],
   "source": []
  }
 ],
 "metadata": {
  "kernelspec": {
   "display_name": "Python 3",
   "language": "python",
   "name": "python3"
  },
  "language_info": {
   "codemirror_mode": {
    "name": "ipython",
    "version": 3
   },
   "file_extension": ".py",
   "mimetype": "text/x-python",
   "name": "python",
   "nbconvert_exporter": "python",
   "pygments_lexer": "ipython3",
   "version": "3.8.8"
  }
 },
 "nbformat": 4,
 "nbformat_minor": 5
}
