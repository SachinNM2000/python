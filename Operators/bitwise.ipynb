{
 "cells": [
  {
   "cell_type": "code",
   "execution_count": 1,
   "id": "effafb76",
   "metadata": {},
   "outputs": [
    {
     "name": "stdout",
     "output_type": "stream",
     "text": [
      "2\n"
     ]
    }
   ],
   "source": [
    "# & => AND\n",
    "# True, if both bits are 1\n",
    "x=6\n",
    "y=3\n",
    "print(x&y)"
   ]
  },
  {
   "cell_type": "code",
   "execution_count": 2,
   "id": "d80c11e9",
   "metadata": {},
   "outputs": [
    {
     "name": "stdout",
     "output_type": "stream",
     "text": [
      "7\n"
     ]
    }
   ],
   "source": [
    "# | => OR\n",
    "# True, if one of two bits are 1\n",
    "x=6\n",
    "y=3\n",
    "print(x|y)"
   ]
  },
  {
   "cell_type": "code",
   "execution_count": 3,
   "id": "5c6b3a7e",
   "metadata": {},
   "outputs": [
    {
     "name": "stdout",
     "output_type": "stream",
     "text": [
      "-4\n"
     ]
    }
   ],
   "source": [
    "x=3\n",
    "print(~x)"
   ]
  },
  {
   "cell_type": "code",
   "execution_count": 4,
   "id": "22aa898a",
   "metadata": {},
   "outputs": [
    {
     "name": "stdout",
     "output_type": "stream",
     "text": [
      "48\n"
     ]
    }
   ],
   "source": [
    "x=6\n",
    "y=3\n",
    "print(x<<y)"
   ]
  },
  {
   "cell_type": "code",
   "execution_count": 5,
   "id": "4feb6138",
   "metadata": {},
   "outputs": [
    {
     "name": "stdout",
     "output_type": "stream",
     "text": [
      "0\n"
     ]
    }
   ],
   "source": [
    "x=6\n",
    "y=3\n",
    "print(x>>y)"
   ]
  },
  {
   "cell_type": "code",
   "execution_count": null,
   "id": "cccf66ef",
   "metadata": {},
   "outputs": [],
   "source": []
  }
 ],
 "metadata": {
  "kernelspec": {
   "display_name": "Python 3",
   "language": "python",
   "name": "python3"
  },
  "language_info": {
   "codemirror_mode": {
    "name": "ipython",
    "version": 3
   },
   "file_extension": ".py",
   "mimetype": "text/x-python",
   "name": "python",
   "nbconvert_exporter": "python",
   "pygments_lexer": "ipython3",
   "version": "3.8.8"
  }
 },
 "nbformat": 4,
 "nbformat_minor": 5
}
