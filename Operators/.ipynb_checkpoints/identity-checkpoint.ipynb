{
 "cells": [
  {
   "cell_type": "code",
   "execution_count": 2,
   "id": "f913b3fa",
   "metadata": {},
   "outputs": [
    {
     "name": "stdout",
     "output_type": "stream",
     "text": [
      "True\n",
      "False\n",
      "True\n"
     ]
    }
   ],
   "source": [
    "# is:\n",
    "x=['apple','banana']\n",
    "y=['apple','banana']\n",
    "z=x\n",
    "print(x is z) # True, because z is same object as x\n",
    "print(x is y) # False, because x is not same object as y,even if they same content\n",
    "print(x==y)   # True, because x is equal to y"
   ]
  },
  {
   "cell_type": "code",
   "execution_count": null,
   "id": "e2aa36be",
   "metadata": {},
   "outputs": [],
   "source": [
    "# is not:\n",
    "x=['apple','banana']\n",
    "y=['apple','banana']\n",
    "z=x\n",
    "print(x is not z) # False, because z is same object as x\n",
    "print(x is not y) # True, because x is not same object as y,even if they same content\n",
    "print(x!=y)   # False, because x is equal to y"
   ]
  }
 ],
 "metadata": {
  "kernelspec": {
   "display_name": "Python 3",
   "language": "python",
   "name": "python3"
  },
  "language_info": {
   "codemirror_mode": {
    "name": "ipython",
    "version": 3
   },
   "file_extension": ".py",
   "mimetype": "text/x-python",
   "name": "python",
   "nbconvert_exporter": "python",
   "pygments_lexer": "ipython3",
   "version": "3.8.8"
  }
 },
 "nbformat": 4,
 "nbformat_minor": 5
}
