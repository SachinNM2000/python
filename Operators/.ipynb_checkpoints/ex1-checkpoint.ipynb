{
 "cells": [
  {
   "cell_type": "code",
   "execution_count": 2,
   "id": "9a22e218",
   "metadata": {},
   "outputs": [
    {
     "name": "stdout",
     "output_type": "stream",
     "text": [
      "105\n",
      "95\n",
      "500\n",
      "20.0\n",
      "0\n",
      "20\n",
      "10000000000\n"
     ]
    }
   ],
   "source": [
    "#Arithmatic Operators=> Operators which performs arithmatic operations\n",
    "a=100\n",
    "b=5\n",
    "print(a+b)  #Addition\n",
    "print(a-b)  #Subtraction\n",
    "print(a*b)  #Multiplication\n",
    "print(a/b)  #Division\n",
    "print(a%b)  #Modulus\n",
    "print(a//b) #Floor division\n",
    "print(a**b) #Exponentiation(power of)"
   ]
  },
  {
   "cell_type": "code",
   "execution_count": 4,
   "id": "89c56280",
   "metadata": {},
   "outputs": [
    {
     "name": "stdout",
     "output_type": "stream",
     "text": [
      "8\n"
     ]
    }
   ],
   "source": [
    "print(2**3) #2*2*2=8 "
   ]
  },
  {
   "cell_type": "code",
   "execution_count": 6,
   "id": "c23c4b2c",
   "metadata": {},
   "outputs": [
    {
     "name": "stdout",
     "output_type": "stream",
     "text": [
      "625\n"
     ]
    }
   ],
   "source": [
    "print(5**4) #5*5*5*5"
   ]
  },
  {
   "cell_type": "code",
   "execution_count": 7,
   "id": "a36665db",
   "metadata": {},
   "outputs": [],
   "source": [
    "# Division and Floor Division\n",
    "#/: always perform floating point arithmatic\n",
    "#//: performs inetral arithmatic which removes decimal values and also sometimes it performs floating point arithmatic"
   ]
  },
  {
   "cell_type": "code",
   "execution_count": 8,
   "id": "9dc4d2ef",
   "metadata": {},
   "outputs": [
    {
     "name": "stdout",
     "output_type": "stream",
     "text": [
      "2.0\n",
      "2\n"
     ]
    }
   ],
   "source": [
    "print(10/5)\n",
    "print(10//5)"
   ]
  },
  {
   "cell_type": "code",
   "execution_count": 10,
   "id": "640d6e92",
   "metadata": {},
   "outputs": [
    {
     "name": "stdout",
     "output_type": "stream",
     "text": [
      "2.0\n",
      "5.0\n",
      "2\n",
      "5.0\n"
     ]
    }
   ],
   "source": [
    "a=10\n",
    "b=5\n",
    "c=2.0\n",
    "print(a/b)\n",
    "print(a/c)\n",
    "print(a//b) # both the operands are int values\n",
    "print(a//c) # operand is in floating So, the result will be floating values"
   ]
  },
  {
   "cell_type": "code",
   "execution_count": null,
   "id": "d7511b74",
   "metadata": {},
   "outputs": [],
   "source": [
    "# *= multiplication\n",
    "#performs in two ways:\n",
    "        #multipliication(both a&b are int type)\n",
    "        #repeatation(if one operand is sting type)"
   ]
  },
  {
   "cell_type": "code",
   "execution_count": 12,
   "id": "35abe588",
   "metadata": {},
   "outputs": [
    {
     "name": "stdout",
     "output_type": "stream",
     "text": [
      "6\n",
      "TenTenTen\n"
     ]
    }
   ],
   "source": [
    "print(2*3)\n",
    "print(\"Ten\"*3)"
   ]
  },
  {
   "cell_type": "code",
   "execution_count": 17,
   "id": "1c3f3995",
   "metadata": {},
   "outputs": [
    {
     "name": "stdout",
     "output_type": "stream",
     "text": [
      "1000\n",
      "RahulRahulRahulRahul\n"
     ]
    },
    {
     "ename": "TypeError",
     "evalue": "can't multiply sequence by non-int of type 'str'",
     "output_type": "error",
     "traceback": [
      "\u001b[1;31m---------------------------------------------------------------------------\u001b[0m",
      "\u001b[1;31mTypeError\u001b[0m                                 Traceback (most recent call last)",
      "\u001b[1;32m<ipython-input-17-3162f34543ac>\u001b[0m in \u001b[0;36m<module>\u001b[1;34m\u001b[0m\n\u001b[0;32m      3\u001b[0m \u001b[0mprint\u001b[0m\u001b[1;33m(\u001b[0m\u001b[0ma\u001b[0m\u001b[1;33m*\u001b[0m\u001b[1;36m100\u001b[0m\u001b[1;33m)\u001b[0m   \u001b[1;31m#Multiplication\u001b[0m\u001b[1;33m\u001b[0m\u001b[1;33m\u001b[0m\u001b[0m\n\u001b[0;32m      4\u001b[0m \u001b[0mprint\u001b[0m\u001b[1;33m(\u001b[0m\u001b[0mename\u001b[0m\u001b[1;33m*\u001b[0m\u001b[1;36m4\u001b[0m\u001b[1;33m)\u001b[0m \u001b[1;31m#Repeatation\u001b[0m\u001b[1;33m\u001b[0m\u001b[1;33m\u001b[0m\u001b[0m\n\u001b[1;32m----> 5\u001b[1;33m \u001b[0mprint\u001b[0m \u001b[1;33m(\u001b[0m\u001b[0mename\u001b[0m\u001b[1;33m*\u001b[0m\u001b[1;34m\"sachin\"\u001b[0m\u001b[1;33m)\u001b[0m\u001b[1;33m\u001b[0m\u001b[1;33m\u001b[0m\u001b[0m\n\u001b[0m",
      "\u001b[1;31mTypeError\u001b[0m: can't multiply sequence by non-int of type 'str'"
     ]
    }
   ],
   "source": [
    "a=10\n",
    "ename=\"Rahul\"\n",
    "print(a*100)   #Multiplication\n",
    "print(ename*4) #Repeatation\n",
    "print (ename*\"sachin\")"
   ]
  },
  {
   "cell_type": "code",
   "execution_count": 19,
   "id": "f20718a0",
   "metadata": {},
   "outputs": [
    {
     "name": "stdout",
     "output_type": "stream",
     "text": [
      "10\n"
     ]
    }
   ],
   "source": [
    "#Logical and Relational Operators\n",
    "# and=> if both operands are non-zero or True, its TRUE\n",
    "#       if either one operand is zero or False, its FALSE\n",
    "print (100 and 10)"
   ]
  },
  {
   "cell_type": "code",
   "execution_count": 23,
   "id": "ba525245",
   "metadata": {},
   "outputs": [
    {
     "name": "stdout",
     "output_type": "stream",
     "text": [
      "True\n",
      "False\n"
     ]
    }
   ],
   "source": [
    "print(True > False)\n",
    "print(True < False)"
   ]
  },
  {
   "cell_type": "code",
   "execution_count": null,
   "id": "8bd8ef58",
   "metadata": {},
   "outputs": [],
   "source": []
  }
 ],
 "metadata": {
  "kernelspec": {
   "display_name": "Python 3",
   "language": "python",
   "name": "python3"
  },
  "language_info": {
   "codemirror_mode": {
    "name": "ipython",
    "version": 3
   },
   "file_extension": ".py",
   "mimetype": "text/x-python",
   "name": "python",
   "nbconvert_exporter": "python",
   "pygments_lexer": "ipython3",
   "version": "3.8.8"
  }
 },
 "nbformat": 4,
 "nbformat_minor": 5
}
