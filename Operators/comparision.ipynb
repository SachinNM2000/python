{
 "cells": [
  {
   "cell_type": "code",
   "execution_count": 1,
   "id": "0d3d4fa0",
   "metadata": {},
   "outputs": [
    {
     "name": "stdout",
     "output_type": "stream",
     "text": [
      "False\n"
     ]
    }
   ],
   "source": [
    "x=3\n",
    "y=5\n",
    "print(x==y)"
   ]
  },
  {
   "cell_type": "code",
   "execution_count": 3,
   "id": "f4a8f303",
   "metadata": {},
   "outputs": [
    {
     "name": "stdout",
     "output_type": "stream",
     "text": [
      "True\n"
     ]
    }
   ],
   "source": [
    "x=6\n",
    "y=6\n",
    "print(x==y)"
   ]
  },
  {
   "cell_type": "code",
   "execution_count": 5,
   "id": "5f4fe6d1",
   "metadata": {},
   "outputs": [
    {
     "name": "stdout",
     "output_type": "stream",
     "text": [
      "True\n"
     ]
    }
   ],
   "source": [
    "x=3\n",
    "y=5\n",
    "print(x!=y)"
   ]
  },
  {
   "cell_type": "code",
   "execution_count": 6,
   "id": "e12df268",
   "metadata": {},
   "outputs": [
    {
     "name": "stdout",
     "output_type": "stream",
     "text": [
      "False\n"
     ]
    }
   ],
   "source": [
    "x=6\n",
    "y=6\n",
    "print(x!=y)"
   ]
  },
  {
   "cell_type": "code",
   "execution_count": 7,
   "id": "d8cecaad",
   "metadata": {},
   "outputs": [
    {
     "name": "stdout",
     "output_type": "stream",
     "text": [
      "False\n"
     ]
    }
   ],
   "source": [
    "x=3\n",
    "y=5\n",
    "print(x>y)"
   ]
  },
  {
   "cell_type": "code",
   "execution_count": 8,
   "id": "6606e4a4",
   "metadata": {},
   "outputs": [
    {
     "name": "stdout",
     "output_type": "stream",
     "text": [
      "True\n"
     ]
    }
   ],
   "source": [
    "x=5\n",
    "y=3\n",
    "print(x>y)"
   ]
  },
  {
   "cell_type": "code",
   "execution_count": 10,
   "id": "9dd98060",
   "metadata": {},
   "outputs": [
    {
     "name": "stdout",
     "output_type": "stream",
     "text": [
      "True\n"
     ]
    }
   ],
   "source": [
    "x=3\n",
    "y=5\n",
    "print(x<y)"
   ]
  },
  {
   "cell_type": "code",
   "execution_count": 11,
   "id": "76fd7137",
   "metadata": {},
   "outputs": [
    {
     "name": "stdout",
     "output_type": "stream",
     "text": [
      "False\n"
     ]
    }
   ],
   "source": [
    "x=5\n",
    "y=3\n",
    "print(x<y)"
   ]
  },
  {
   "cell_type": "code",
   "execution_count": 12,
   "id": "a49a78de",
   "metadata": {},
   "outputs": [
    {
     "name": "stdout",
     "output_type": "stream",
     "text": [
      "False\n"
     ]
    }
   ],
   "source": [
    "x=3\n",
    "y=5\n",
    "print(x>=y)"
   ]
  },
  {
   "cell_type": "code",
   "execution_count": 13,
   "id": "703aed46",
   "metadata": {},
   "outputs": [
    {
     "name": "stdout",
     "output_type": "stream",
     "text": [
      "True\n"
     ]
    }
   ],
   "source": [
    "x=5\n",
    "y=3\n",
    "print(x>=y)"
   ]
  },
  {
   "cell_type": "code",
   "execution_count": 14,
   "id": "dfe35648",
   "metadata": {},
   "outputs": [
    {
     "name": "stdout",
     "output_type": "stream",
     "text": [
      "True\n"
     ]
    }
   ],
   "source": [
    "x=6\n",
    "y=6\n",
    "print(x>=y)"
   ]
  },
  {
   "cell_type": "code",
   "execution_count": 15,
   "id": "4b3249b0",
   "metadata": {},
   "outputs": [
    {
     "name": "stdout",
     "output_type": "stream",
     "text": [
      "True\n"
     ]
    }
   ],
   "source": [
    "x=3\n",
    "y=5\n",
    "print(x<=y)"
   ]
  },
  {
   "cell_type": "code",
   "execution_count": 16,
   "id": "acad7358",
   "metadata": {},
   "outputs": [
    {
     "name": "stdout",
     "output_type": "stream",
     "text": [
      "False\n"
     ]
    }
   ],
   "source": [
    "x=5\n",
    "y=3\n",
    "print(x<=y)"
   ]
  },
  {
   "cell_type": "code",
   "execution_count": 17,
   "id": "daa2b27d",
   "metadata": {},
   "outputs": [
    {
     "name": "stdout",
     "output_type": "stream",
     "text": [
      "True\n"
     ]
    }
   ],
   "source": [
    "x=6\n",
    "y=6\n",
    "print(x<=y)"
   ]
  },
  {
   "cell_type": "code",
   "execution_count": null,
   "id": "485830c2",
   "metadata": {},
   "outputs": [],
   "source": []
  },
  {
   "cell_type": "code",
   "execution_count": null,
   "id": "f599ff02",
   "metadata": {},
   "outputs": [],
   "source": []
  }
 ],
 "metadata": {
  "kernelspec": {
   "display_name": "Python 3",
   "language": "python",
   "name": "python3"
  },
  "language_info": {
   "codemirror_mode": {
    "name": "ipython",
    "version": 3
   },
   "file_extension": ".py",
   "mimetype": "text/x-python",
   "name": "python",
   "nbconvert_exporter": "python",
   "pygments_lexer": "ipython3",
   "version": "3.8.8"
  }
 },
 "nbformat": 4,
 "nbformat_minor": 5
}
